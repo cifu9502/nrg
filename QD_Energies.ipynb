{
 "metadata": {
  "name": "",
  "signature": "sha256:6e128944f42a5a7573a44d5b6256e78eb2fb87760a3193b31ecf2e6a8c344123"
 },
 "nbformat": 3,
 "nbformat_minor": 0,
 "worksheets": [
  {
   "cells": [
    {
     "cell_type": "code",
     "collapsed": false,
     "input": [
      "# output = '/Runs/run4/output_Run3.txt'+repr(3)+'.txt' #link de harry potter, se puede cambiar el libro cambiando el link\n",
      "output = 'TwoChNRG/Runs/run5/output_Run.txt'\n",
      "#A continuacion se presentan los archivos donde se escribiran los respectivos codigos y textos\n",
      "\n",
      "#writeHuff = \"descomp_huffman_\" + book\n",
      "#writeBin = \"descomp_plano_\" + book\n",
      "\n",
      "from __future__ import division \n",
      "%pylab inline\n",
      "import string\n",
      "import os\n",
      "infile = open(os.path.abspath(output), 'r')\n",
      "#load the full text by lines\n",
      "text = infile.readlines()\n",
      "#text"
     ],
     "language": "python",
     "metadata": {},
     "outputs": [
      {
       "output_type": "stream",
       "stream": "stdout",
       "text": [
        "Populating the interactive namespace from numpy and matplotlib\n"
       ]
      },
      {
       "output_type": "stream",
       "stream": "stderr",
       "text": [
        "WARNING: pylab import has clobbered these variables: ['text']\n",
        "`%matplotlib` prevents importing * from pylab and numpy\n"
       ]
      }
     ],
     "prompt_number": 9
    },
    {
     "cell_type": "code",
     "collapsed": false,
     "input": [
      "Nsites = int(text[4].split(' ')[-1].split('\\n')[0])\n",
      "Nsites"
     ],
     "language": "python",
     "metadata": {},
     "outputs": [
      {
       "metadata": {},
       "output_type": "pyout",
       "prompt_number": 10,
       "text": [
        "63"
       ]
      }
     ],
     "prompt_number": 10
    },
    {
     "cell_type": "code",
     "collapsed": false,
     "input": [
      "numEst = 10\n",
      "Nsites = int(text[4].split(' ')[-1].split('\\n')[0])\n",
      "A = [] # Este sera el alfabeto\n",
      "for x in text:\n",
      "    #print(list(x))\n",
      "    a=x.split(' ')\n",
      "    if x.split(' ')[0]=='En':\n",
      "        #En , |n,m> , N\n",
      "        Ens = [float(a[2]),int(a[4]),float(a[6]),int(a[-1].split('\\n')[0])]\n",
      "        A.append(Ens)\n",
      "A=array(A)        \n"
     ],
     "language": "python",
     "metadata": {},
     "outputs": [],
     "prompt_number": 44
    },
    {
     "cell_type": "code",
     "collapsed": false,
     "input": [
      "minEns = []\n",
      "for n in range(0,Nsites+1):\n",
      "    An = A[A[:,3]==n]\n",
      "    An = sorted(An, key=lambda An_entry: An_entry[0]); AnMins = An[0:numEst]\n",
      "    Nmins =[]\n",
      "    for m in range(0,len(AnMins)):\n",
      "        Nmins.append(AnMins[m][0])\n",
      "    minEns.append(Nmins)\n",
      "minEns = array(minEns)  \n",
      "#plot(range(-1,Nsites+1),minEns,'.')\n",
      "minEns"
     ],
     "language": "python",
     "metadata": {},
     "outputs": [
      {
       "metadata": {},
       "output_type": "pyout",
       "prompt_number": 45,
       "text": [
        "array([[  0.00000000e+00,   1.06208000e-01,   1.06208000e-01,\n",
        "          1.61970000e-01,   3.87847000e-01,   3.87847000e-01,\n",
        "          3.87847000e-01,   4.43610000e-01,   4.43610000e-01,\n",
        "          5.49818000e-01],\n",
        "       [  0.00000000e+00,   3.10721000e-01,   3.10721000e-01,\n",
        "          8.17739000e-01,   8.17739000e-01,   8.63718000e-01,\n",
        "          8.63718000e-01,   1.10847000e+00,   1.15027000e+00,\n",
        "          1.15027000e+00],\n",
        "       [  0.00000000e+00,   1.21123000e-01,   1.21123000e-01,\n",
        "          1.73484000e-01,   7.02793000e-01,   7.02793000e-01,\n",
        "          7.02793000e-01,   7.54770000e-01,   7.54770000e-01,\n",
        "          8.74749000e-01],\n",
        "       [  0.00000000e+00,   5.05749000e-01,   5.05749000e-01,\n",
        "          7.85664000e-01,   7.85664000e-01,   1.12129000e+00,\n",
        "          1.12129000e+00,   1.22550000e+00,   1.37903000e+00,\n",
        "          1.37903000e+00],\n",
        "       [  0.00000000e+00,   1.44112000e-01,   1.44112000e-01,\n",
        "          2.00172000e-01,   1.22678000e+00,   1.22678000e+00,\n",
        "          1.22678000e+00,   1.26496000e+00,   1.26496000e+00,\n",
        "          1.36965000e+00],\n",
        "       [  0.00000000e+00,   5.60665000e-01,   5.60665000e-01,\n",
        "          7.93122000e-01,   7.93122000e-01,   1.26854000e+00,\n",
        "          1.45666000e+00,   1.45666000e+00,   1.45666000e+00,\n",
        "          1.58295000e+00],\n",
        "       [  0.00000000e+00,   1.67682000e-01,   1.67682000e-01,\n",
        "          2.29830000e-01,   1.43930000e+00,   1.43930000e+00,\n",
        "          1.44839000e+00,   1.44839000e+00,   1.44839000e+00,\n",
        "          1.52424000e+00],\n",
        "       [  0.00000000e+00,   5.57307000e-01,   5.57307000e-01,\n",
        "          8.06046000e-01,   8.06046000e-01,   1.26574000e+00,\n",
        "          1.47838000e+00,   1.47838000e+00,   1.47838000e+00,\n",
        "          1.60581000e+00],\n",
        "       [  0.00000000e+00,   1.93391000e-01,   1.93391000e-01,\n",
        "          2.64287000e-01,   1.46470000e+00,   1.46470000e+00,\n",
        "          1.48843000e+00,   1.48843000e+00,   1.48843000e+00,\n",
        "          1.56299000e+00],\n",
        "       [  0.00000000e+00,   5.36346000e-01,   5.36346000e-01,\n",
        "          8.19907000e-01,   8.19907000e-01,   1.24588000e+00,\n",
        "          1.48754000e+00,   1.48754000e+00,   1.48754000e+00,\n",
        "          1.63009000e+00],\n",
        "       [  0.00000000e+00,   2.24109000e-01,   2.24109000e-01,\n",
        "          3.07274000e-01,   1.47186000e+00,   1.47186000e+00,\n",
        "          1.49802000e+00,   1.49802000e+00,   1.49802000e+00,\n",
        "          1.58973000e+00],\n",
        "       [  0.00000000e+00,   5.04618000e-01,   5.04618000e-01,\n",
        "          8.36120000e-01,   8.36120000e-01,   1.21640000e+00,\n",
        "          1.49164000e+00,   1.49164000e+00,   1.49164000e+00,\n",
        "          1.65829000e+00],\n",
        "       [  0.00000000e+00,   2.62853000e-01,   2.62853000e-01,\n",
        "          3.63363000e-01,   1.47719000e+00,   1.47719000e+00,\n",
        "          1.49993000e+00,   1.49993000e+00,   1.49993000e+00,\n",
        "          1.62198000e+00],\n",
        "       [  0.00000000e+00,   4.61750000e-01,   4.61750000e-01,\n",
        "          8.57656000e-01,   8.57656000e-01,   1.17948000e+00,\n",
        "          1.49364000e+00,   1.49364000e+00,   1.49364000e+00,\n",
        "          1.69537000e+00],\n",
        "       [  0.00000000e+00,   3.13017000e-01,   3.13017000e-01,\n",
        "          4.38882000e-01,   1.48729000e+00,   1.48729000e+00,\n",
        "          1.49935000e+00,   1.49935000e+00,   1.49935000e+00,\n",
        "          1.66946000e+00],\n",
        "       [  0.00000000e+00,   4.05082000e-01,   4.05082000e-01,\n",
        "          8.89055000e-01,   8.89055000e-01,   1.13729000e+00,\n",
        "          1.49502000e+00,   1.49502000e+00,   1.49502000e+00,\n",
        "          1.74873000e+00],\n",
        "       [  0.00000000e+00,   3.78136000e-01,   3.78136000e-01,\n",
        "          5.42828000e-01,   1.49787000e+00,   1.49787000e+00,\n",
        "          1.49787000e+00,   1.51030000e+00,   1.51030000e+00,\n",
        "          1.74446000e+00],\n",
        "       [  0.00000000e+00,   3.31874000e-01,   3.31874000e-01,\n",
        "          9.38012000e-01,   9.38012000e-01,   1.09696000e+00,\n",
        "          1.49670000e+00,   1.49670000e+00,   1.49670000e+00,\n",
        "          1.83103000e+00],\n",
        "       [  0.00000000e+00,   4.59720000e-01,   4.59720000e-01,\n",
        "          6.86420000e-01,   1.49621000e+00,   1.49621000e+00,\n",
        "          1.49621000e+00,   1.56105000e+00,   1.56105000e+00,\n",
        "          1.86578000e+00],\n",
        "       [  0.00000000e+00,   2.43528000e-01,   2.43528000e-01,\n",
        "          1.01700000e+00,   1.01700000e+00,   1.07855000e+00,\n",
        "          1.49964000e+00,   1.49964000e+00,   1.49964000e+00,\n",
        "          1.77823000e+00],\n",
        "       [  0.00000000e+00,   5.51538000e-01,   5.51538000e-01,\n",
        "          8.76545000e-01,   1.49483000e+00,   1.49483000e+00,\n",
        "          1.49483000e+00,   1.66399000e+00,   1.66399000e+00,\n",
        "          2.05787000e+00],\n",
        "       [  0.00000000e+00,   1.52475000e-01,   1.52475000e-01,\n",
        "          1.11881000e+00,   1.13764000e+00,   1.13764000e+00,\n",
        "          1.50464000e+00,   1.50464000e+00,   1.50464000e+00,\n",
        "          1.68279000e+00],\n",
        "       [  0.00000000e+00,   6.35158000e-01,   6.35158000e-01,\n",
        "          1.09507000e+00,   1.49402000e+00,   1.49402000e+00,\n",
        "          1.49402000e+00,   1.83612000e+00,   1.83612000e+00,\n",
        "          2.21201000e+00],\n",
        "       [  0.00000000e+00,   8.00652000e-02,   8.00652000e-02,\n",
        "          1.23435000e+00,   1.28363000e+00,   1.28363000e+00,\n",
        "          1.51078000e+00,   1.51078000e+00,   1.51078000e+00,\n",
        "          1.60613000e+00],\n",
        "       [  0.00000000e+00,   6.92464000e-01,   6.92464000e-01,\n",
        "          1.28394000e+00,   1.49372000e+00,   1.49372000e+00,\n",
        "          1.49372000e+00,   2.03113000e+00,   2.03113000e+00,\n",
        "          2.30695000e+00],\n",
        "       [  0.00000000e+00,   3.67102000e-02,   3.67102000e-02,\n",
        "          1.36596000e+00,   1.40227000e+00,   1.40227000e+00,\n",
        "          1.51563000e+00,   1.51563000e+00,   1.51563000e+00,\n",
        "          1.55989000e+00],\n",
        "       [  0.00000000e+00,   7.22996000e-01,   7.22996000e-01,\n",
        "          1.39912000e+00,   1.49367000e+00,   1.49367000e+00,\n",
        "          1.49367000e+00,   2.15659000e+00,   2.15659000e+00,\n",
        "          2.38898000e+00],\n",
        "       [  0.00000000e+00,   1.56003000e-02,   1.56003000e-02,\n",
        "          1.45088000e+00,   1.46876000e+00,   1.46876000e+00,\n",
        "          1.51834000e+00,   1.51834000e+00,   1.51834000e+00,\n",
        "          1.53727000e+00],\n",
        "       [  0.00000000e+00,   7.36926000e-01,   7.36926000e-01,\n",
        "          1.45409000e+00,   1.49368000e+00,   1.49368000e+00,\n",
        "          1.49368000e+00,   2.20854000e+00,   2.20854000e+00,\n",
        "          2.44477000e+00],\n",
        "       [  0.00000000e+00,   6.39996000e-03,   6.39996000e-03,\n",
        "          1.49143000e+00,   1.49907000e+00,   1.49907000e+00,\n",
        "          1.51959000e+00,   1.51959000e+00,   1.51959000e+00,\n",
        "          1.52737000e+00],\n",
        "       [  0.00000000e+00,   7.42819000e-01,   7.42819000e-01,\n",
        "          1.47758000e+00,   1.49370000e+00,   1.49370000e+00,\n",
        "          1.49370000e+00,   2.22809000e+00,   2.22809000e+00,\n",
        "          2.47269000e+00],\n",
        "       [  0.00000000e+00,   2.58649000e-03,   2.58649000e-03,\n",
        "          1.50868000e+00,   1.51181000e+00,   1.51181000e+00,\n",
        "          1.52012000e+00,   1.52012000e+00,   1.52012000e+00,\n",
        "          1.52327000e+00],\n",
        "       [  0.00000000e+00,   7.45230000e-01,   7.45230000e-01,\n",
        "          1.48722000e+00,   1.49371000e+00,   1.49371000e+00,\n",
        "          1.49371000e+00,   2.23563000e+00,   2.23563000e+00,\n",
        "          2.48482000e+00],\n",
        "       [  0.00000000e+00,   1.03890000e-03,   1.03890000e-03,\n",
        "          1.51573000e+00,   1.51699000e+00,   1.51699000e+00,\n",
        "          1.52034000e+00,   1.52034000e+00,   1.52034000e+00,\n",
        "          1.52160000e+00],\n",
        "       [  0.00000000e+00,   7.46204000e-01,   7.46204000e-01,\n",
        "          1.49111000e+00,   1.49371000e+00,   1.49371000e+00,\n",
        "          1.49371000e+00,   2.23860000e+00,   2.23860000e+00,\n",
        "          2.48982000e+00],\n",
        "       [  0.00000000e+00,   4.16251000e-04,   4.16251000e-04,\n",
        "          1.51858000e+00,   1.51908000e+00,   1.51908000e+00,\n",
        "          1.52042000e+00,   1.52042000e+00,   1.52042000e+00,\n",
        "          1.52093000e+00],\n",
        "       [  0.00000000e+00,   7.46595000e-01,   7.46595000e-01,\n",
        "          1.49267000e+00,   1.49371000e+00,   1.49371000e+00,\n",
        "          1.49371000e+00,   2.23978000e+00,   2.23978000e+00,\n",
        "          2.49185000e+00],\n",
        "       [  0.00000000e+00,   1.66611000e-04,   1.66611000e-04,\n",
        "          1.51972000e+00,   1.51992000e+00,   1.51992000e+00,\n",
        "          1.52046000e+00,   1.52046000e+00,   1.52046000e+00,\n",
        "          1.52066000e+00],\n",
        "       [  0.00000000e+00,   7.46751000e-01,   7.46751000e-01,\n",
        "          1.49329000e+00,   1.49371000e+00,   1.49371000e+00,\n",
        "          1.49371000e+00,   2.24025000e+00,   2.24025000e+00,\n",
        "          2.49266000e+00],\n",
        "       [  0.00000000e+00,   6.66624000e-05,   6.66624000e-05,\n",
        "          1.52018000e+00,   1.52026000e+00,   1.52026000e+00,\n",
        "          1.52047000e+00,   1.52047000e+00,   1.52047000e+00,\n",
        "          1.52056000e+00],\n",
        "       [  0.00000000e+00,   7.46814000e-01,   7.46814000e-01,\n",
        "          1.49354000e+00,   1.49371000e+00,   1.49371000e+00,\n",
        "          1.49371000e+00,   2.24044000e+00,   2.24044000e+00,\n",
        "          2.49299000e+00],\n",
        "       [  0.00000000e+00,   2.66678000e-05,   2.66678000e-05,\n",
        "          1.52036000e+00,   1.52039000e+00,   1.52039000e+00,\n",
        "          1.52048000e+00,   1.52048000e+00,   1.52048000e+00,\n",
        "          1.52051000e+00],\n",
        "       [  0.00000000e+00,   7.46839000e-01,   7.46839000e-01,\n",
        "          1.49364000e+00,   1.49371000e+00,   1.49371000e+00,\n",
        "          1.49371000e+00,   2.24052000e+00,   2.24052000e+00,\n",
        "          2.49312000e+00],\n",
        "       [  0.00000000e+00,   1.06676000e-05,   1.06676000e-05,\n",
        "          1.52043000e+00,   1.52045000e+00,   1.52045000e+00,\n",
        "          1.52048000e+00,   1.52048000e+00,   1.52048000e+00,\n",
        "          1.52049000e+00],\n",
        "       [  0.00000000e+00,   7.46849000e-01,   7.46849000e-01,\n",
        "          1.49368000e+00,   1.49371000e+00,   1.49371000e+00,\n",
        "          1.49371000e+00,   2.24055000e+00,   2.24055000e+00,\n",
        "          2.49317000e+00],\n",
        "       [  0.00000000e+00,   4.26710000e-06,   4.26710000e-06,\n",
        "          1.52046000e+00,   1.52047000e+00,   1.52047000e+00,\n",
        "          1.52048000e+00,   1.52048000e+00,   1.52048000e+00,\n",
        "          1.52049000e+00],\n",
        "       [  0.00000000e+00,   7.46853000e-01,   7.46853000e-01,\n",
        "          1.49370000e+00,   1.49371000e+00,   1.49371000e+00,\n",
        "          1.49371000e+00,   2.24056000e+00,   2.24056000e+00,\n",
        "          2.49319000e+00],\n",
        "       [  0.00000000e+00,   1.70685000e-06,   1.70685000e-06,\n",
        "          1.52048000e+00,   1.52048000e+00,   1.52048000e+00,\n",
        "          1.52048000e+00,   1.52048000e+00,   1.52048000e+00,\n",
        "          1.52049000e+00],\n",
        "       [  0.00000000e+00,   7.46855000e-01,   7.46855000e-01,\n",
        "          1.49371000e+00,   1.49371000e+00,   1.49371000e+00,\n",
        "          1.49371000e+00,   2.24056000e+00,   2.24056000e+00,\n",
        "          2.49320000e+00],\n",
        "       [  0.00000000e+00,   6.82743000e-07,   6.82743000e-07,\n",
        "          1.52048000e+00,   1.52048000e+00,   1.52048000e+00,\n",
        "          1.52048000e+00,   1.52048000e+00,   1.52048000e+00,\n",
        "          1.52048000e+00],\n",
        "       [  0.00000000e+00,   7.46855000e-01,   7.46855000e-01,\n",
        "          1.49371000e+00,   1.49371000e+00,   1.49371000e+00,\n",
        "          1.49371000e+00,   2.24057000e+00,   2.24057000e+00,\n",
        "          2.49320000e+00],\n",
        "       [  0.00000000e+00,   2.73097000e-07,   2.73098000e-07,\n",
        "          1.52048000e+00,   1.52048000e+00,   1.52048000e+00,\n",
        "          1.52048000e+00,   1.52048000e+00,   1.52048000e+00,\n",
        "          1.52048000e+00],\n",
        "       [  0.00000000e+00,   7.46856000e-01,   7.46856000e-01,\n",
        "          1.49371000e+00,   1.49371000e+00,   1.49371000e+00,\n",
        "          1.49371000e+00,   2.24057000e+00,   2.24057000e+00,\n",
        "          2.49321000e+00],\n",
        "       [  0.00000000e+00,   1.09239000e-07,   1.09239000e-07,\n",
        "          1.52048000e+00,   1.52048000e+00,   1.52048000e+00,\n",
        "          1.52048000e+00,   1.52048000e+00,   1.52048000e+00,\n",
        "          1.52048000e+00],\n",
        "       [  0.00000000e+00,   7.46856000e-01,   7.46856000e-01,\n",
        "          1.49371000e+00,   1.49371000e+00,   1.49371000e+00,\n",
        "          1.49371000e+00,   2.24057000e+00,   2.24057000e+00,\n",
        "          2.49321000e+00],\n",
        "       [  0.00000000e+00,   4.36956000e-08,   4.36956000e-08,\n",
        "          1.52048000e+00,   1.52048000e+00,   1.52048000e+00,\n",
        "          1.52048000e+00,   1.52048000e+00,   1.52048000e+00,\n",
        "          1.52048000e+00],\n",
        "       [  0.00000000e+00,   7.46856000e-01,   7.46856000e-01,\n",
        "          1.49371000e+00,   1.49371000e+00,   1.49371000e+00,\n",
        "          1.49371000e+00,   2.24057000e+00,   2.24057000e+00,\n",
        "          2.49321000e+00],\n",
        "       [  0.00000000e+00,   1.74782000e-08,   1.74783000e-08,\n",
        "          1.52048000e+00,   1.52048000e+00,   1.52048000e+00,\n",
        "          1.52048000e+00,   1.52048000e+00,   1.52048000e+00,\n",
        "          1.52048000e+00],\n",
        "       [  0.00000000e+00,   7.46856000e-01,   7.46856000e-01,\n",
        "          1.49371000e+00,   1.49371000e+00,   1.49371000e+00,\n",
        "          1.49371000e+00,   2.24057000e+00,   2.24057000e+00,\n",
        "          2.49321000e+00],\n",
        "       [  0.00000000e+00,   6.99127000e-09,   6.99132000e-09,\n",
        "          1.52048000e+00,   1.52048000e+00,   1.52048000e+00,\n",
        "          1.52048000e+00,   1.52048000e+00,   1.52048000e+00,\n",
        "          1.52048000e+00],\n",
        "       [  0.00000000e+00,   7.46856000e-01,   7.46856000e-01,\n",
        "          1.49371000e+00,   1.49371000e+00,   1.49371000e+00,\n",
        "          1.49371000e+00,   2.24057000e+00,   2.24057000e+00,\n",
        "          2.49321000e+00],\n",
        "       [  0.00000000e+00,   2.79651000e-09,   2.79653000e-09,\n",
        "          1.52048000e+00,   1.52048000e+00,   1.52048000e+00,\n",
        "          1.52048000e+00,   1.52048000e+00,   1.52048000e+00,\n",
        "          1.52048000e+00],\n",
        "       [  0.00000000e+00,   7.46856000e-01,   7.46856000e-01,\n",
        "          1.49371000e+00,   1.49371000e+00,   1.49371000e+00,\n",
        "          1.49371000e+00,   2.24057000e+00,   2.24057000e+00,\n",
        "          2.49321000e+00],\n",
        "       [  0.00000000e+00,   1.11859000e-09,   1.11862000e-09,\n",
        "          1.52048000e+00,   1.52048000e+00,   1.52048000e+00,\n",
        "          1.52048000e+00,   1.52048000e+00,   1.52048000e+00,\n",
        "          1.52048000e+00]])"
       ]
      }
     ],
     "prompt_number": 45
    },
    {
     "cell_type": "code",
     "collapsed": false,
     "input": [
      "minEns[-1]"
     ],
     "language": "python",
     "metadata": {},
     "outputs": [
      {
       "metadata": {},
       "output_type": "pyout",
       "prompt_number": 53,
       "text": [
        "array([  0.00000000e+00,   1.11859000e-09,   1.11862000e-09,\n",
        "         1.52048000e+00,   1.52048000e+00,   1.52048000e+00,\n",
        "         1.52048000e+00,   1.52048000e+00,   1.52048000e+00,\n",
        "         1.52048000e+00])"
       ]
      }
     ],
     "prompt_number": 53
    },
    {
     "cell_type": "code",
     "collapsed": false,
     "input": [
      "for n in range(0,numEst):\n",
      "    plot(range(Nsites+1)[1::2],minEns[1::2,n],'-');"
     ],
     "language": "python",
     "metadata": {},
     "outputs": [
      {
       "metadata": {},
       "output_type": "display_data",
       "png": "[encoded data removed]",
       "text": [
        "<matplotlib.figure.Figure at 0x7f785405a650>"
       ]
      }
     ],
     "prompt_number": 52
    },
    {
     "cell_type": "code",
     "collapsed": false,
     "input": [
      "An = A[A[:,3]==0]\n",
      "An = sorted(An, key=lambda An_entry: An_entry[0])\n",
      "a=An[0:4]\n",
      "a[2][0]"
     ],
     "language": "python",
     "metadata": {},
     "outputs": [
      {
       "metadata": {},
       "output_type": "pyout",
       "prompt_number": 43,
       "text": [
        "0.106208"
       ]
      }
     ],
     "prompt_number": 43
    },
    {
     "cell_type": "code",
     "collapsed": false,
     "input": [
      "A= zeros((4, 3))\n"
     ],
     "language": "python",
     "metadata": {},
     "outputs": [],
     "prompt_number": 16
    },
    {
     "cell_type": "code",
     "collapsed": false,
     "input": [
      "[2,3]"
     ],
     "language": "python",
     "metadata": {},
     "outputs": [
      {
       "metadata": {},
       "output_type": "pyout",
       "prompt_number": 17,
       "text": [
        "[2, 3]"
       ]
      }
     ],
     "prompt_number": 17
    },
    {
     "cell_type": "code",
     "collapsed": false,
     "input": [
      "range(6)"
     ],
     "language": "python",
     "metadata": {},
     "outputs": [
      {
       "metadata": {},
       "output_type": "pyout",
       "prompt_number": 18,
       "text": [
        "[0, 1, 2, 3, 4, 5]"
       ]
      }
     ],
     "prompt_number": 18
    },
    {
     "cell_type": "code",
     "collapsed": false,
     "input": [
      "len(minEns[::2,n])"
     ],
     "language": "python",
     "metadata": {},
     "outputs": [
      {
       "metadata": {},
       "output_type": "pyout",
       "prompt_number": 24,
       "text": [
        "32"
       ]
      }
     ],
     "prompt_number": 24
    },
    {
     "cell_type": "code",
     "collapsed": false,
     "input": [],
     "language": "python",
     "metadata": {},
     "outputs": []
    }
   ],
   "metadata": {}
  }
 ]
}